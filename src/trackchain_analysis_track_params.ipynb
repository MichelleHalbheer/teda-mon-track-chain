{
 "cells": [
  {
   "cell_type": "markdown",
   "metadata": {},
   "source": [
    "# TrackChain - Track Parameters"
   ]
  },
  {
   "cell_type": "code",
   "execution_count": 1,
   "metadata": {},
   "outputs": [],
   "source": [
    "### IMPORTS ###\n",
    "\n",
    "import numpy as np\n",
    "import pandas as pd\n",
    "import matplotlib\n",
    "from matplotlib import pyplot as plt\n",
    "import datetime\n",
    "import os\n",
    "from tqdm.notebook import tqdm\n",
    "import math"
   ]
  },
  {
   "cell_type": "code",
   "execution_count": 2,
   "metadata": {},
   "outputs": [],
   "source": [
    "### ------------------------------ ###\n",
    "### -------- DIRECTORIES --------- ###\n",
    "### ------------------------------ ###\n",
    "\n",
    "dir_src = os.path.abspath('')\n",
    "dir_root = os.path.dirname(dir_src)\n",
    "dir_data = os.path.join(dir_root, 'data')\n",
    "dir_plots = os.path.join(dir_root, 'plots')"
   ]
  },
  {
   "cell_type": "code",
   "execution_count": 3,
   "metadata": {},
   "outputs": [],
   "source": [
    "### ------------------------------ ###\n",
    "### ----------- VALUES ----------- ###\n",
    "### ------------------------------ ###\n",
    "\n",
    "rho_gon = np.pi / 200 # Conversion factor from gon to radians\n",
    "rho_deg = np.pi / 180 # Conversion factor from degree to radians\n",
    "\n",
    "sigma_dist_default = 50 # [mm]\n",
    "sigma_tilt_default = 0.072 # [deg]\n",
    "sigma_tilt_default_rad = sigma_tilt_default * rho_deg # [rad]\n",
    "\n",
    "num_reps = int(1e6) # Number of repetitions for Monte Carlo simulation\n",
    "\n",
    "h0 = 0 # Height level of first point\n",
    "\n",
    "nominal_dist_lateral = 4.8\n",
    "\n",
    "sbb_profile_dist = 4.8\n",
    "width_track = 1.435 # [m] width of a SBB track"
   ]
  },
  {
   "cell_type": "code",
   "execution_count": 27,
   "metadata": {},
   "outputs": [
    {
     "name": "stdout",
     "output_type": "stream",
     "text": [
      "[ 0.          8.94750517 11.32096291] [3.28702372] [-1.62055846  1.71275512  1.27206186]\n"
     ]
    },
    {
     "data": {
      "text/plain": [
       "(array([0.61748766, 0.76173777]), array([2.13350482]))"
      ]
     },
     "execution_count": 27,
     "metadata": {},
     "output_type": "execute_result"
    }
   ],
   "source": [
    "def monte_carlo_track_params(\n",
    "    sigma_tilt:float,\n",
    "    sigma_dist:float,\n",
    "    dist_tot:float=9.6,\n",
    "    nominal_dist:float=1.2,\n",
    "    nominal_dist_lat:float=4.8,\n",
    "    single_chain:bool=True) -> tuple[np.ndarray, np.ndarray]:\n",
    "    '''\n",
    "    Analysis of precision using a Monte Carlo simulation\n",
    "\n",
    "    Parameters\n",
    "    ----------\n",
    "    num_sensors : Integer\n",
    "        Number of sensors used\n",
    "    sigma_tilt : Float\n",
    "        Standard deviation for the tilt angles\n",
    "    sigma_dist : Float\n",
    "        Standard deviation for the distances\n",
    "    nominal_dist : Float, optional\n",
    "        Nominal distance between any two points\n",
    "\n",
    "    Returns\n",
    "    -------\n",
    "    std_open : np.ndarray\n",
    "        Array of standard deviations per point with one end fixed\n",
    "    std_closed : np.ndarray\n",
    "        Array of standard deviations per point with both ends fixed\n",
    "    std_open_lat : np.ndarray\n",
    "        Array of standard deviations per point on the second track with one end fixed\n",
    "    std_closed_lat : np.ndarray\n",
    "        Array of standard deviations per point on the second track with both ends fixed\n",
    "    '''\n",
    "\n",
    "    num_sensors = int(dist_tot // nominal_dist)\n",
    "    num_sensors_lat = int(dist_tot // nominal_dist_lat) + 1\n",
    "    num_points = num_sensors + 1\n",
    "\n",
    "    # Create random observations for the distances and the angles\n",
    "    r_dist = np.random.normal(nominal_dist * 1000, sigma_dist, (num_sensors, num_reps))\n",
    "    r_ang = np.random.normal(0, sigma_tilt * rho_deg, (num_sensors, num_reps))\n",
    "\n",
    "    # Height differences per point\n",
    "    dh = r_dist * np.sin(r_ang)\n",
    "\n",
    "    # Cumulative sum of height differences, last point unknown\n",
    "    h = np.insert(np.cumsum(dh, axis=0), 0, np.zeros(num_reps), axis=0)\n",
    "    h_sbb = h[::int(sbb_profile_dist//nominal_dist)]\n",
    "    \n",
    "    if single_chain:\n",
    "        r_dist_sec = np.random.normal(width_track * 1000, sigma_dist, (num_sensors_lat, num_reps))\n",
    "        r_ang_sec = np.random.normal(0, sigma_tilt * rho_deg, (num_sensors_lat, num_reps))\n",
    "        \n",
    "        dh_sec = r_dist_sec * np.sin(r_ang_sec)\n",
    "        h_sec = h[::math.ceil(num_points / num_sensors_lat)] + dh_sec\n",
    "        h_sbb_sec = h_sec[::int(sbb_profile_dist//nominal_dist_lat)]\n",
    "    else:\n",
    "        r_dist_sec = np.random.normal(nominal_dist * 1000, sigma_dist, (num_sensors, num_reps))\n",
    "        r_ang_sec = np.random.normal(0, sigma_tilt * rho_deg, (num_sensors, num_reps))\n",
    "\n",
    "        # Height differences per point\n",
    "        dh_sec = r_dist_sec * np.sin(r_ang_sec)\n",
    "\n",
    "        # Cumulative sum of height differences, last point unknown\n",
    "        h_sec = np.insert(np.cumsum(dh_sec, axis=0), 0, np.zeros(num_reps), axis=0)\n",
    "        h_sbb_sec = h_sec[::int(sbb_profile_dist//nominal_dist)]\n",
    "    \n",
    "    std_h_sbb = np.std(h_sbb, axis=1)\n",
    "    \n",
    "    h_sbb_avg = np.mean(np.array([h_sbb, h_sbb_sec]), axis=0)\n",
    "\n",
    "    # Vertikale Pfeilhöhe\n",
    "    pf_v = h_sbb[1:-1] - (h_sbb[:-2] + h_sbb[2:]) / 2\n",
    "\n",
    "    # Überhöhung\n",
    "    u = h_sbb - h_sbb_sec\n",
    "    \n",
    "\n",
    "    # Verwindung\n",
    "    n = (u[1:] - u[:-1]) / sbb_profile_dist\n",
    "    \n",
    "    print(h_sbb[:, 0], pf_v[:, 0], u[:,0])\n",
    "    \n",
    "    std_pf_v = np.std(pf_v, axis=1)\n",
    "    std_n = np.std(n, axis=1)\n",
    "\n",
    "    return std_n, std_pf_v\n",
    "\n",
    "monte_carlo_track_params(sigma_tilt_default, sigma_dist_default, nominal_dist=1.2)"
   ]
  },
  {
   "cell_type": "code",
   "execution_count": null,
   "metadata": {},
   "outputs": [],
   "source": []
  }
 ],
 "metadata": {
  "interpreter": {
   "hash": "6d2f99bc67ddd6068c34357bf068b7eca91e7f8aafb31c6ec727f4afb765d28d"
  },
  "kernelspec": {
   "display_name": "Python 3.10.2 64-bit ('venv_trackchain': venv)",
   "language": "python",
   "name": "python3"
  },
  "language_info": {
   "codemirror_mode": {
    "name": "ipython",
    "version": 3
   },
   "file_extension": ".py",
   "mimetype": "text/x-python",
   "name": "python",
   "nbconvert_exporter": "python",
   "pygments_lexer": "ipython3",
   "version": "3.10.2"
  },
  "orig_nbformat": 4
 },
 "nbformat": 4,
 "nbformat_minor": 2
}
